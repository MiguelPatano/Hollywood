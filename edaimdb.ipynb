{
 "cells": [
  {
   "cell_type": "code",
   "execution_count": 1,
   "metadata": {},
   "outputs": [],
   "source": [
    "import pandas as pd\n",
    "import os"
   ]
  },
  {
   "cell_type": "markdown",
   "metadata": {},
   "source": [
    "En este código vamos a crear una base con los actores, directores y puntuaciones para luego juntar a la base de IMDB que usaremos para el proyecto."
   ]
  },
  {
   "cell_type": "code",
   "execution_count": 2,
   "metadata": {},
   "outputs": [
    {
     "name": "stderr",
     "output_type": "stream",
     "text": [
      "C:\\Users\\mpata_lrc8dz0\\AppData\\Local\\Temp\\ipykernel_17816\\2066758021.py:7: DtypeWarning: Columns (4) have mixed types. Specify dtype option on import or set low_memory=False.\n",
      "  title_basics = pd.read_csv(os.path.join(directorio, \"title.basics.tsv\"), sep='\\t')\n"
     ]
    }
   ],
   "source": [
    "\n",
    "\n",
    "# Directorio donde se encuentran los archivos TSV\n",
    "directorio = \"data/Base oficial IMDB\"\n",
    "\n",
    "# Cargando los archivos TSV en DataFrames\n",
    "name_basics = pd.read_csv(os.path.join(directorio, \"name.basics.tsv\"), sep='\\t')\n",
    "title_akas = pd.read_csv(os.path.join(directorio, \"title.akas.tsv\"), sep='\\t')\n",
    "title_basics = pd.read_csv(os.path.join(directorio, \"title.basics.tsv\"), sep='\\t')\n",
    "title_crew = pd.read_csv(os.path.join(directorio, \"title.crew.tsv\"), sep='\\t')\n",
    "title_episode = pd.read_csv(os.path.join(directorio, \"title.episode.tsv\"), sep='\\t')\n",
    "title_principals = pd.read_csv(os.path.join(directorio, \"title.principals.tsv\"), sep='\\t')\n",
    "title_ratings = pd.read_csv(os.path.join(directorio, \"title.ratings.tsv\"), sep='\\t')\n",
    "\n"
   ]
  },
  {
   "cell_type": "code",
   "execution_count": 3,
   "metadata": {},
   "outputs": [
    {
     "name": "stdout",
     "output_type": "stream",
     "text": [
      "      tconst titleType                   primaryTitle  \\\n",
      "0  tt0000009     movie                     Miss Jerry   \n",
      "1  tt0000147     movie  The Corbett-Fitzsimmons Fight   \n",
      "2  tt0000502     movie                       Bohemios   \n",
      "3  tt0000574     movie    The Story of the Kelly Gang   \n",
      "4  tt0000591     movie               The Prodigal Son   \n",
      "\n",
      "                   originalTitle isAdult startYear endYear runtimeMinutes  \\\n",
      "0                     Miss Jerry       0      1894      \\N             45   \n",
      "1  The Corbett-Fitzsimmons Fight       0      1897      \\N            100   \n",
      "2                       Bohemios       0      1905      \\N            100   \n",
      "3    The Story of the Kelly Gang       0      1906      \\N             70   \n",
      "4              L'enfant prodigue       0      1907      \\N             90   \n",
      "\n",
      "                       genres  title_es  \n",
      "0                     Romance       NaN  \n",
      "1      Documentary,News,Sport       NaN  \n",
      "2                          \\N  Bohemios  \n",
      "3  Action,Adventure,Biography       NaN  \n",
      "4                       Drama       NaN  \n"
     ]
    }
   ],
   "source": [
    "\n",
    "#Vamos a crear un solo dataframe con la información de las películas que necesito\n",
    "movies = title_basics[(title_basics['titleType'] == 'movie') & (title_basics['isAdult'].isin([0, '0']))]\n",
    "\n",
    "# Obtener títulos en español para busquedas\n",
    "titles_es = title_akas[(title_akas['region'] == 'ES')][['titleId', 'title']]\n",
    "\n",
    "#Ahora voy a sumar el título en español al DataFrame movies si lo tenemos.\n",
    "movies = pd.merge(movies, titles_es[['titleId', 'title']].rename(columns={'title': 'title_es'}),\n",
    "                  left_on='tconst', right_on='titleId', how='left')\n",
    "\n",
    "movies.drop('titleId', axis=1, inplace=True)\n",
    "\n",
    "# Visualizar las primeras filas del DataFrame movies para verificar\n",
    "print(movies.head())\n"
   ]
  },
  {
   "cell_type": "code",
   "execution_count": 4,
   "metadata": {},
   "outputs": [],
   "source": [
    "# Unir información de ratings\n",
    "movies = movies.merge(title_ratings[['tconst', 'averageRating', 'numVotes']], on='tconst', how='left')\n"
   ]
  },
  {
   "cell_type": "code",
   "execution_count": 5,
   "metadata": {},
   "outputs": [],
   "source": [
    "# Obtener los actores principales\n",
    "principals_actors = title_principals[(title_principals['category'].isin(['actor', 'actress'])) & (title_principals['tconst'].isin(movies['tconst']))]\n",
    "# Supongamos que solo queremos los nombres y los uniremos en una lista separada por comas\n",
    "actors_names = principals_actors.merge(name_basics[['nconst', 'primaryName']], left_on='nconst', right_on='nconst')\n",
    "actors_summary = actors_names.groupby('tconst')['primaryName'].apply(lambda x: ', '.join(x)).reset_index()\n",
    "movies = movies.merge(actors_summary, on='tconst', how='left')"
   ]
  },
  {
   "cell_type": "code",
   "execution_count": 6,
   "metadata": {},
   "outputs": [
    {
     "name": "stderr",
     "output_type": "stream",
     "text": [
      "C:\\Users\\mpata_lrc8dz0\\AppData\\Local\\Temp\\ipykernel_17816\\3948828377.py:6: SettingWithCopyWarning: \n",
      "A value is trying to be set on a copy of a slice from a DataFrame.\n",
      "Try using .loc[row_indexer,col_indexer] = value instead\n",
      "\n",
      "See the caveats in the documentation: https://pandas.pydata.org/pandas-docs/stable/user_guide/indexing.html#returning-a-view-versus-a-copy\n",
      "  movies_directors['directors'] = movies_directors['directors'].apply(lambda x: x.split(',') if isinstance(x, str) else [])\n"
     ]
    },
    {
     "data": {
      "text/html": [
       "<div>\n",
       "<style scoped>\n",
       "    .dataframe tbody tr th:only-of-type {\n",
       "        vertical-align: middle;\n",
       "    }\n",
       "\n",
       "    .dataframe tbody tr th {\n",
       "        vertical-align: top;\n",
       "    }\n",
       "\n",
       "    .dataframe thead th {\n",
       "        text-align: right;\n",
       "    }\n",
       "</style>\n",
       "<table border=\"1\" class=\"dataframe\">\n",
       "  <thead>\n",
       "    <tr style=\"text-align: right;\">\n",
       "      <th></th>\n",
       "      <th>tconst</th>\n",
       "      <th>directors</th>\n",
       "    </tr>\n",
       "  </thead>\n",
       "  <tbody>\n",
       "    <tr>\n",
       "      <th>0</th>\n",
       "      <td>tt0000009</td>\n",
       "      <td>[nm0085156]</td>\n",
       "    </tr>\n",
       "    <tr>\n",
       "      <th>1</th>\n",
       "      <td>tt0000147</td>\n",
       "      <td>[nm0714557]</td>\n",
       "    </tr>\n",
       "    <tr>\n",
       "      <th>2</th>\n",
       "      <td>tt0000502</td>\n",
       "      <td>[nm0063413]</td>\n",
       "    </tr>\n",
       "    <tr>\n",
       "      <th>3</th>\n",
       "      <td>tt0000574</td>\n",
       "      <td>[nm0846879]</td>\n",
       "    </tr>\n",
       "    <tr>\n",
       "      <th>4</th>\n",
       "      <td>tt0000591</td>\n",
       "      <td>[nm0141150]</td>\n",
       "    </tr>\n",
       "  </tbody>\n",
       "</table>\n",
       "</div>"
      ],
      "text/plain": [
       "      tconst    directors\n",
       "0  tt0000009  [nm0085156]\n",
       "1  tt0000147  [nm0714557]\n",
       "2  tt0000502  [nm0063413]\n",
       "3  tt0000574  [nm0846879]\n",
       "4  tt0000591  [nm0141150]"
      ]
     },
     "execution_count": 6,
     "metadata": {},
     "output_type": "execute_result"
    }
   ],
   "source": [
    "#Completo el director de la película\n",
    "movies = movies.merge(title_crew[['tconst', 'directors']], on='tconst', how='left')\n",
    "\n",
    "movies_directors = movies[['tconst', 'directors']]\n",
    "# Voy a convertir la información de los directores en una lista y quitar los nulos\n",
    "movies_directors['directors'] = movies_directors['directors'].apply(lambda x: x.split(',') if isinstance(x, str) else [])\n",
    "# Me voy a crear una tabla con id y directores para poder completar todo el proceso\n",
    "movies_exploded = movies_directors.explode('directors')\n",
    "\n",
    "movies_directors.head()"
   ]
  },
  {
   "cell_type": "code",
   "execution_count": 7,
   "metadata": {},
   "outputs": [],
   "source": [
    "#Ahora que ya tengo todo preparado voy a unir la información de los directores en movies.\n",
    "movies_exploded = movies_directors.explode('directors')\n",
    "\n",
    "# Junto movies_exploded con name_basics para obtener los nombres de los directores no solo sus ID\n",
    "movies_with_names = pd.merge(\n",
    "    movies_exploded,\n",
    "    name_basics[['nconst', 'primaryName']],\n",
    "    left_on='directors',\n",
    "    right_on='nconst',\n",
    "    how='left'\n",
    ")\n",
    "\n",
    "\n",
    "#Ahora agrupo otra vez para juntar el nombre de los directores en cada película\n",
    "#Los voy a guardar si hay más de uno como los actores separando por comas.\n",
    "movies_with_names_grouped = movies_with_names.groupby('tconst').agg({\n",
    "    'primaryName': lambda x: ', '.join(x.dropna().unique())  \n",
    "}).reset_index()\n",
    "\n",
    "# Cambio el nombre a primaryName a directors_name\n",
    "movies_with_names_grouped.rename(columns={'primaryName': 'directors_name'}, inplace=True)\n",
    "\n",
    "# Creo finalmente movies_final con los nombres de los directores\n",
    "movies_final = pd.merge(\n",
    "    movies_directors,\n",
    "    movies_with_names_grouped[['tconst', 'directors_name']],\n",
    "    on='tconst',\n",
    "    how='left'\n",
    ")\n",
    "\n",
    "\n",
    "\n"
   ]
  },
  {
   "cell_type": "code",
   "execution_count": 8,
   "metadata": {},
   "outputs": [],
   "source": [
    "#Finalmente añado la columna de nombre de director al DataFrame movies\n",
    "movies = movies.merge(movies_final[['tconst', 'directors_name']], on='tconst', how='left')\n"
   ]
  },
  {
   "cell_type": "code",
   "execution_count": 19,
   "metadata": {},
   "outputs": [
    {
     "name": "stdout",
     "output_type": "stream",
     "text": [
      "\n",
      "Películas encontradas:\n",
      "         tconst                          primaryTitle  \\\n",
      "681   tt0004406                       Noche de sangre   \n",
      "2208  tt0007297                        Sangre y arena   \n",
      "3436  tt0009039  La España trágica o Tierra de sangre   \n",
      "3864  tt0009580                      The Scarlet Drop   \n",
      "6565  tt0012890                           Alma rifeña   \n",
      "6566  tt0012890                           Alma rifeña   \n",
      "6620  tt0012952                        Blood and Sand   \n",
      "7445  tt0013921                            Chî to reî   \n",
      "9248  tt0015973                        Kentucky Pride   \n",
      "9529  tt0016311             Sangre azul y sangre roja   \n",
      "\n",
      "                        title_es                           directors_name  \\\n",
      "681              Noche de sangre          Ricardo de Baños, Alberto Marro   \n",
      "2208              Sangre y arena  Ricardo de Baños, Vicente Blasco Ibáñez   \n",
      "3436  La narracion de un soldado                          Rafael Salvador   \n",
      "3864           La gota de sangre                                John Ford   \n",
      "6565             Sangre española                               José Buchs   \n",
      "6566             Sangre española                               José Buchs   \n",
      "6620              Sangre y arena               Fred Niblo, Dorothy Arzner   \n",
      "7445         La sangre y el alma                          Kenji Mizoguchi   \n",
      "9248             Sangre de pista                                John Ford   \n",
      "9529   Sangre azul y sangre roja                        Manuel del Villar   \n",
      "\n",
      "                                            primaryName  \n",
      "681                                                 NaN  \n",
      "2208  Luis Alcaide, Mark Andrews, Matilde Domenech, ...  \n",
      "3436  José Argelagués, José Durany, Carmen Villasán,...  \n",
      "3864  Harry Carey, Betty Schade, Martha Mattox, Vest...  \n",
      "6565  María Comendador, José Montenegro, Abd-El-Kade...  \n",
      "6566  María Comendador, José Montenegro, Abd-El-Kade...  \n",
      "6620  Rosita Marstini, Walter Long, Leo White, Rudol...  \n",
      "7445  Kômei Minami, Chiyoko Eguchi, Harue Ichikawa, ...  \n",
      "9248  Henry B. Walthall, Gertrude Astor, Peaches Jac...  \n",
      "9529  Francisco Climent, Luis Piqueras, Margarita de...  \n"
     ]
    }
   ],
   "source": [
    "#Esto lo creo para poder buscar una peli y ver si los directores son los correctos\n",
    "titulo = input(\"Introduce el título de la película: \")\n",
    "\n",
    "# Filtro movies usando primaryTitle y title_es\n",
    "peliculas_filtradas = movies[(movies['primaryTitle'].str.contains(titulo, case=False, na=False)) |\n",
    "                             (movies['title_es'].str.contains(titulo, case=False, na=False))]\n",
    "\n",
    "print(\"\\nPelículas encontradas:\")\n",
    "print(peliculas_filtradas[['tconst', 'primaryTitle', 'title_es', 'directors_name','primaryName']].head(10))"
   ]
  },
  {
   "cell_type": "code",
   "execution_count": 10,
   "metadata": {},
   "outputs": [],
   "source": [
    "#Aquí voy a eliminar las columnas que no me valen.\n",
    "movies.drop(['titleType', 'isAdult', 'directors', 'endYear'], axis=1, inplace=True)\n"
   ]
  },
  {
   "cell_type": "code",
   "execution_count": 39,
   "metadata": {},
   "outputs": [
    {
     "name": "stdout",
     "output_type": "stream",
     "text": [
      "<class 'pandas.core.frame.DataFrame'>\n",
      "Index: 670198 entries, 0 to 700739\n",
      "Data columns (total 11 columns):\n",
      " #   Column          Non-Null Count   Dtype  \n",
      "---  ------          --------------   -----  \n",
      " 0   tconst          670198 non-null  object \n",
      " 1   primaryTitle    670198 non-null  object \n",
      " 2   originalTitle   670198 non-null  object \n",
      " 3   startYear       670198 non-null  Int64  \n",
      " 4   runtimeMinutes  670198 non-null  Int64  \n",
      " 5   genres          670198 non-null  object \n",
      " 6   title_es        67648 non-null   object \n",
      " 7   averageRating   304877 non-null  float64\n",
      " 8   numVotes        304877 non-null  float64\n",
      " 9   primaryName     485787 non-null  object \n",
      " 10  directors_name  670198 non-null  object \n",
      "dtypes: Int64(2), float64(2), object(7)\n",
      "memory usage: 62.6+ MB\n"
     ]
    }
   ],
   "source": [
    "movies.info()   "
   ]
  },
  {
   "cell_type": "code",
   "execution_count": 12,
   "metadata": {},
   "outputs": [],
   "source": [
    "#Últimos ajustes.\n",
    "# vamos a borrar las filas donde primaryTitle sea nulo\n",
    "movies = movies.dropna(subset=['primaryTitle'])\n"
   ]
  },
  {
   "cell_type": "code",
   "execution_count": 32,
   "metadata": {},
   "outputs": [],
   "source": [
    "movies = movies.drop_duplicates(subset=['tconst'])"
   ]
  },
  {
   "cell_type": "code",
   "execution_count": 38,
   "metadata": {},
   "outputs": [],
   "source": [
    "#Vamos a corregir el formato de algunas columnas, comenzamos por startYear, quiero que sea entero \n",
    "movies['startYear'] = movies['startYear'].replace('\\\\N', '0')\n",
    "movies['startYear'] = movies['startYear'].astype('Int64')\n",
    "#Luego haremos los mismo con runtimeMinutes\n",
    "movies['runtimeMinutes'] = movies['runtimeMinutes'].replace('\\\\N', '0')\n",
    "movies['runtimeMinutes'] = movies['runtimeMinutes'].astype('Int64')\n",
    "\n"
   ]
  },
  {
   "cell_type": "code",
   "execution_count": 40,
   "metadata": {},
   "outputs": [],
   "source": [
    "#Voya cambiar el nombre de algunas columnas por ejemplo primaryTitle por title, startYear por year, primaryName por actors\n",
    "movies.rename(columns={'primaryTitle': 'title', 'startYear': 'year', 'primaryName': 'actors'}, inplace=True)\n"
   ]
  },
  {
   "cell_type": "code",
   "execution_count": 41,
   "metadata": {},
   "outputs": [],
   "source": [
    "#por último me exporto a csv el dataframe movies\n",
    "movies.to_csv('movies.csv', index=False)\n"
   ]
  }
 ],
 "metadata": {
  "kernelspec": {
   "display_name": "mi_entorno",
   "language": "python",
   "name": "python3"
  },
  "language_info": {
   "codemirror_mode": {
    "name": "ipython",
    "version": 3
   },
   "file_extension": ".py",
   "mimetype": "text/x-python",
   "name": "python",
   "nbconvert_exporter": "python",
   "pygments_lexer": "ipython3",
   "version": "3.10.2"
  }
 },
 "nbformat": 4,
 "nbformat_minor": 2
}
